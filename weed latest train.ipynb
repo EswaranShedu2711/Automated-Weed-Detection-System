{
 "cells": [
  {
   "cell_type": "code",
   "execution_count": 1,
   "id": "d78d92c3-10ad-429f-a6f4-f847c99fed96",
   "metadata": {},
   "outputs": [],
   "source": [
    "# Step 1: Set environment variables\n",
    "import os\n",
    "\n",
    "# Use the correct path to the Git executable\n",
    "os.environ[\"GIT_PYTHON_REFRESH\"] = \"quiet\"\n",
    "os.environ[\"GIT_PYTHON_GIT_EXECUTABLE\"] = \"C:\\\\Program Files\\\\Git\\\\cmd\\\\git.exe\""
   ]
  },
  {
   "cell_type": "code",
   "execution_count": 2,
   "id": "494cfff5-2213-4c61-a21f-3b52d9a1eb21",
   "metadata": {},
   "outputs": [],
   "source": [
    "# Step 2: Import necessary modules\n",
    "import git\n"
   ]
  },
  {
   "cell_type": "code",
   "execution_count": 3,
   "id": "51640e67-97fe-4153-a02c-e4856d13b950",
   "metadata": {},
   "outputs": [
    {
     "name": "stdout",
     "output_type": "stream",
     "text": [
      "C:\\Users\\Eswaran\\yolov5\n"
     ]
    },
    {
     "name": "stderr",
     "output_type": "stream",
     "text": [
      "fatal: destination path 'yolov5' already exists and is not an empty directory.\n"
     ]
    },
    {
     "name": "stdout",
     "output_type": "stream",
     "text": [
      "Requirement already satisfied: gitpython>=3.1.30 in c:\\users\\eswaran\\anaconda3\\lib\\site-packages (from -r requirements.txt (line 5)) (3.1.37)\n",
      "Requirement already satisfied: matplotlib>=3.3 in c:\\users\\eswaran\\anaconda3\\lib\\site-packages (from -r requirements.txt (line 6)) (3.8.4)\n",
      "Requirement already satisfied: numpy>=1.23.5 in c:\\users\\eswaran\\anaconda3\\lib\\site-packages (from -r requirements.txt (line 7)) (1.26.4)\n",
      "Requirement already satisfied: opencv-python>=4.1.1 in c:\\users\\eswaran\\appdata\\roaming\\python\\python311\\site-packages (from -r requirements.txt (line 8)) (4.8.1.78)\n",
      "Requirement already satisfied: pillow>=10.3.0 in c:\\users\\eswaran\\anaconda3\\lib\\site-packages (from -r requirements.txt (line 9)) (10.3.0)\n",
      "Requirement already satisfied: psutil in c:\\users\\eswaran\\anaconda3\\lib\\site-packages (from -r requirements.txt (line 10)) (5.9.0)\n",
      "Requirement already satisfied: PyYAML>=5.3.1 in c:\\users\\eswaran\\anaconda3\\lib\\site-packages (from -r requirements.txt (line 11)) (6.0.1)\n",
      "Requirement already satisfied: requests>=2.32.0 in c:\\users\\eswaran\\anaconda3\\lib\\site-packages (from -r requirements.txt (line 12)) (2.32.2)\n",
      "Requirement already satisfied: scipy>=1.4.1 in c:\\users\\eswaran\\anaconda3\\lib\\site-packages (from -r requirements.txt (line 13)) (1.13.1)\n",
      "Requirement already satisfied: thop>=0.1.1 in c:\\users\\eswaran\\appdata\\roaming\\python\\python311\\site-packages (from -r requirements.txt (line 14)) (0.1.1.post2209072238)\n",
      "Requirement already satisfied: torch>=1.8.0 in c:\\users\\eswaran\\anaconda3\\lib\\site-packages (from -r requirements.txt (line 15)) (2.3.0)\n",
      "Requirement already satisfied: torchvision>=0.9.0 in c:\\users\\eswaran\\anaconda3\\lib\\site-packages (from -r requirements.txt (line 16)) (0.18.0)\n",
      "Requirement already satisfied: tqdm>=4.64.0 in c:\\users\\eswaran\\anaconda3\\lib\\site-packages (from -r requirements.txt (line 17)) (4.66.4)\n",
      "Requirement already satisfied: ultralytics>=8.0.232 in c:\\users\\eswaran\\appdata\\roaming\\python\\python311\\site-packages (from -r requirements.txt (line 18)) (8.2.26)\n",
      "Requirement already satisfied: pandas>=1.1.4 in c:\\users\\eswaran\\anaconda3\\lib\\site-packages (from -r requirements.txt (line 27)) (2.2.1)\n",
      "Requirement already satisfied: seaborn>=0.11.0 in c:\\users\\eswaran\\anaconda3\\lib\\site-packages (from -r requirements.txt (line 28)) (0.12.2)\n",
      "Requirement already satisfied: setuptools>=65.5.1 in c:\\users\\eswaran\\anaconda3\\lib\\site-packages (from -r requirements.txt (line 42)) (69.5.1)\n",
      "Requirement already satisfied: wheel>=0.38.0 in c:\\users\\eswaran\\anaconda3\\lib\\site-packages (from -r requirements.txt (line 50)) (0.43.0)\n",
      "Requirement already satisfied: gitdb<5,>=4.0.1 in c:\\users\\eswaran\\anaconda3\\lib\\site-packages (from gitpython>=3.1.30->-r requirements.txt (line 5)) (4.0.7)\n",
      "Requirement already satisfied: contourpy>=1.0.1 in c:\\users\\eswaran\\anaconda3\\lib\\site-packages (from matplotlib>=3.3->-r requirements.txt (line 6)) (1.2.0)\n",
      "Requirement already satisfied: cycler>=0.10 in c:\\users\\eswaran\\anaconda3\\lib\\site-packages (from matplotlib>=3.3->-r requirements.txt (line 6)) (0.11.0)\n",
      "Requirement already satisfied: fonttools>=4.22.0 in c:\\users\\eswaran\\anaconda3\\lib\\site-packages (from matplotlib>=3.3->-r requirements.txt (line 6)) (4.51.0)\n",
      "Requirement already satisfied: kiwisolver>=1.3.1 in c:\\users\\eswaran\\anaconda3\\lib\\site-packages (from matplotlib>=3.3->-r requirements.txt (line 6)) (1.4.4)\n",
      "Requirement already satisfied: packaging>=20.0 in c:\\users\\eswaran\\anaconda3\\lib\\site-packages (from matplotlib>=3.3->-r requirements.txt (line 6)) (23.2)\n",
      "Requirement already satisfied: pyparsing>=2.3.1 in c:\\users\\eswaran\\anaconda3\\lib\\site-packages (from matplotlib>=3.3->-r requirements.txt (line 6)) (3.0.9)\n",
      "Requirement already satisfied: python-dateutil>=2.7 in c:\\users\\eswaran\\anaconda3\\lib\\site-packages (from matplotlib>=3.3->-r requirements.txt (line 6)) (2.9.0.post0)\n",
      "Requirement already satisfied: charset-normalizer<4,>=2 in c:\\users\\eswaran\\anaconda3\\lib\\site-packages (from requests>=2.32.0->-r requirements.txt (line 12)) (2.0.4)\n",
      "Requirement already satisfied: idna<4,>=2.5 in c:\\users\\eswaran\\anaconda3\\lib\\site-packages (from requests>=2.32.0->-r requirements.txt (line 12)) (3.4)\n",
      "Requirement already satisfied: urllib3<3,>=1.21.1 in c:\\users\\eswaran\\anaconda3\\lib\\site-packages (from requests>=2.32.0->-r requirements.txt (line 12)) (2.0.3)\n",
      "Requirement already satisfied: certifi>=2017.4.17 in c:\\users\\eswaran\\anaconda3\\lib\\site-packages (from requests>=2.32.0->-r requirements.txt (line 12)) (2023.5.7)\n",
      "Requirement already satisfied: filelock in c:\\users\\eswaran\\anaconda3\\lib\\site-packages (from torch>=1.8.0->-r requirements.txt (line 15)) (3.13.1)\n",
      "Requirement already satisfied: typing-extensions>=4.8.0 in c:\\users\\eswaran\\anaconda3\\lib\\site-packages (from torch>=1.8.0->-r requirements.txt (line 15)) (4.12.0)\n",
      "Requirement already satisfied: sympy in c:\\users\\eswaran\\anaconda3\\lib\\site-packages (from torch>=1.8.0->-r requirements.txt (line 15)) (1.12)\n",
      "Requirement already satisfied: networkx in c:\\users\\eswaran\\anaconda3\\lib\\site-packages (from torch>=1.8.0->-r requirements.txt (line 15)) (3.1)\n",
      "Requirement already satisfied: jinja2 in c:\\users\\eswaran\\anaconda3\\lib\\site-packages (from torch>=1.8.0->-r requirements.txt (line 15)) (3.1.4)\n",
      "Requirement already satisfied: fsspec in c:\\users\\eswaran\\anaconda3\\lib\\site-packages (from torch>=1.8.0->-r requirements.txt (line 15)) (2024.3.1)\n",
      "Requirement already satisfied: mkl<=2021.4.0,>=2021.1.1 in c:\\users\\eswaran\\anaconda3\\lib\\site-packages (from torch>=1.8.0->-r requirements.txt (line 15)) (2021.4.0)\n",
      "Requirement already satisfied: colorama in c:\\users\\eswaran\\anaconda3\\lib\\site-packages (from tqdm>=4.64.0->-r requirements.txt (line 17)) (0.4.6)\n",
      "Requirement already satisfied: py-cpuinfo in c:\\users\\eswaran\\anaconda3\\lib\\site-packages (from ultralytics>=8.0.232->-r requirements.txt (line 18)) (9.0.0)\n",
      "Requirement already satisfied: pytz>=2020.1 in c:\\users\\eswaran\\anaconda3\\lib\\site-packages (from pandas>=1.1.4->-r requirements.txt (line 27)) (2024.1)\n",
      "Requirement already satisfied: tzdata>=2022.7 in c:\\users\\eswaran\\anaconda3\\lib\\site-packages (from pandas>=1.1.4->-r requirements.txt (line 27)) (2023.3)\n",
      "Requirement already satisfied: smmap<5,>=3.0.1 in c:\\users\\eswaran\\anaconda3\\lib\\site-packages (from gitdb<5,>=4.0.1->gitpython>=3.1.30->-r requirements.txt (line 5)) (4.0.0)\n",
      "Requirement already satisfied: intel-openmp==2021.* in c:\\users\\eswaran\\appdata\\roaming\\python\\python311\\site-packages (from mkl<=2021.4.0,>=2021.1.1->torch>=1.8.0->-r requirements.txt (line 15)) (2021.4.0)\n",
      "Requirement already satisfied: tbb==2021.* in c:\\users\\eswaran\\anaconda3\\lib\\site-packages (from mkl<=2021.4.0,>=2021.1.1->torch>=1.8.0->-r requirements.txt (line 15)) (2021.12.0)\n",
      "Requirement already satisfied: six>=1.5 in c:\\users\\eswaran\\anaconda3\\lib\\site-packages (from python-dateutil>=2.7->matplotlib>=3.3->-r requirements.txt (line 6)) (1.16.0)\n",
      "Requirement already satisfied: MarkupSafe>=2.0 in c:\\users\\eswaran\\anaconda3\\lib\\site-packages (from jinja2->torch>=1.8.0->-r requirements.txt (line 15)) (2.1.3)\n",
      "Requirement already satisfied: mpmath>=0.19 in c:\\users\\eswaran\\anaconda3\\lib\\site-packages (from sympy->torch>=1.8.0->-r requirements.txt (line 15)) (1.3.0)\n"
     ]
    }
   ],
   "source": [
    "# Step 3: Clone YOLOv5 repository and install requirements (run this only once)\n",
    "!git clone https://github.com/ultralytics/yolov5.git\n",
    "%cd yolov5\n",
    "!pip install -r requirements.txt"
   ]
  },
  {
   "cell_type": "code",
   "execution_count": 4,
   "id": "7ed68e55-45d3-4445-9f38-e95b9159dfd2",
   "metadata": {},
   "outputs": [
    {
     "name": "stdout",
     "output_type": "stream",
     "text": [
      "C:\\Users\\Eswaran\\Desktop\\yolov5-master\n"
     ]
    }
   ],
   "source": [
    "%cd C:/Users/your_destination/Desktop/yolov5-master\n"
   ]
  },
  {
   "cell_type": "code",
   "execution_count": null,
   "id": "2e04e892-e9a2-44d1-820e-dcfa48a0834b",
   "metadata": {},
   "outputs": [],
   "source": [
    "!python train.py --img 640 --batch 32 --epochs 10 --data\n",
    "C:/Users/your_destination/Desktop/weed_train/data.yaml --cfg models/yolov5s.yaml --weights yolov5s.pt --name weed_detection --project C:/Users/Eswaran/Desktop/weed_train/runs/train"
   ]
  },
  {
   "cell_type": "code",
   "execution_count": 6,
   "id": "632b3404-ea1c-42b6-8583-342cea2ab9e5",
   "metadata": {},
   "outputs": [
    {
     "name": "stdout",
     "output_type": "stream",
     "text": [
      "Requirement already satisfied: opencv-python-headless in c:\\users\\eswaran\\anaconda3\\lib\\site-packages (4.9.0.80)\n",
      "Requirement already satisfied: tk in c:\\users\\eswaran\\anaconda3\\lib\\site-packages (0.1.0)\n",
      "Requirement already satisfied: torch in c:\\users\\eswaran\\anaconda3\\lib\\site-packages (2.3.0)\n",
      "Requirement already satisfied: numpy>=1.21.2 in c:\\users\\eswaran\\anaconda3\\lib\\site-packages (from opencv-python-headless) (1.26.4)\n",
      "Requirement already satisfied: filelock in c:\\users\\eswaran\\anaconda3\\lib\\site-packages (from torch) (3.13.1)\n",
      "Requirement already satisfied: typing-extensions>=4.8.0 in c:\\users\\eswaran\\anaconda3\\lib\\site-packages (from torch) (4.12.0)\n",
      "Requirement already satisfied: sympy in c:\\users\\eswaran\\anaconda3\\lib\\site-packages (from torch) (1.12)\n",
      "Requirement already satisfied: networkx in c:\\users\\eswaran\\anaconda3\\lib\\site-packages (from torch) (3.1)\n",
      "Requirement already satisfied: jinja2 in c:\\users\\eswaran\\anaconda3\\lib\\site-packages (from torch) (3.1.4)\n",
      "Requirement already satisfied: fsspec in c:\\users\\eswaran\\anaconda3\\lib\\site-packages (from torch) (2024.3.1)\n",
      "Requirement already satisfied: mkl<=2021.4.0,>=2021.1.1 in c:\\users\\eswaran\\anaconda3\\lib\\site-packages (from torch) (2021.4.0)\n",
      "Requirement already satisfied: intel-openmp==2021.* in c:\\users\\eswaran\\appdata\\roaming\\python\\python311\\site-packages (from mkl<=2021.4.0,>=2021.1.1->torch) (2021.4.0)\n",
      "Requirement already satisfied: tbb==2021.* in c:\\users\\eswaran\\anaconda3\\lib\\site-packages (from mkl<=2021.4.0,>=2021.1.1->torch) (2021.12.0)\n",
      "Requirement already satisfied: MarkupSafe>=2.0 in c:\\users\\eswaran\\anaconda3\\lib\\site-packages (from jinja2->torch) (2.1.3)\n",
      "Requirement already satisfied: mpmath>=0.19 in c:\\users\\eswaran\\anaconda3\\lib\\site-packages (from sympy->torch) (1.3.0)\n",
      "Note: you may need to restart the kernel to use updated packages.\n"
     ]
    }
   ],
   "source": [
    "pip install opencv-python-headless tk torch\n"
   ]
  },
  {
   "cell_type": "code",
   "execution_count": null,
   "id": "694a5382-b754-4eb5-bb2a-01de33f4439a",
   "metadata": {},
   "outputs": [],
   "source": []
  }
 ],
 "metadata": {
  "kernelspec": {
   "display_name": "Python 3 (ipykernel)",
   "language": "python",
   "name": "python3"
  },
  "language_info": {
   "codemirror_mode": {
    "name": "ipython",
    "version": 3
   },
   "file_extension": ".py",
   "mimetype": "text/x-python",
   "name": "python",
   "nbconvert_exporter": "python",
   "pygments_lexer": "ipython3",
   "version": "3.11.7"
  }
 },
 "nbformat": 4,
 "nbformat_minor": 5
}
